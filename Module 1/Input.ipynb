{
 "cells": [
  {
   "cell_type": "code",
   "execution_count": 27,
   "metadata": {},
   "outputs": [
    {
     "name": "stdout",
     "output_type": "stream",
     "text": [
      "Enter number one: 4\n",
      "Enter number two: 3\n"
     ]
    }
   ],
   "source": [
    "num1 = float(raw_input(\"Enter number one: \"))\n",
    "num2 = float(raw_input(\"Enter number two: \"))"
   ]
  },
  {
   "cell_type": "code",
   "execution_count": 30,
   "metadata": {},
   "outputs": [
    {
     "name": "stdout",
     "output_type": "stream",
     "text": [
      "(4.0, '+', 3.0, '=', 7.0)\n",
      "('Sub:', 4.0, '-', 3.0, 1.0)\n",
      "('Mul:', 4.0, '*', 3.0, 12.0)\n",
      "('Div:', 4.0, 3.0, 1.3333333333333333)\n",
      "('Rem:', 4.0, 3.0, 1.0)\n",
      "('Pow:', 4.0, 3.0, 64.0)\n"
     ]
    }
   ],
   "source": [
    "print(num1,\"+\",num2,\"=\",num1 + num2)\n",
    "print(\"Sub:\",num1,\"-\",num2, num1 - num2)\n",
    "print(\"Mul:\",num1,\"*\",num2, num1 * num2)\n",
    "print(\"Div:\",num1,num2, num1 / num2)\n",
    "print(\"Rem:\",num1,num2, num1 % num2)\n",
    "print(\"Pow:\",num1,num2, num1 ** num2)"
   ]
  },
  {
   "cell_type": "code",
   "execution_count": 29,
   "metadata": {},
   "outputs": [
    {
     "data": {
      "text/plain": [
       "3.0"
      ]
     },
     "execution_count": 29,
     "metadata": {},
     "output_type": "execute_result"
    }
   ],
   "source": [
    "num2"
   ]
  },
  {
   "cell_type": "code",
   "execution_count": null,
   "metadata": {},
   "outputs": [],
   "source": []
  }
 ],
 "metadata": {
  "kernelspec": {
   "display_name": "Python 2",
   "language": "python",
   "name": "python2"
  },
  "language_info": {
   "codemirror_mode": {
    "name": "ipython",
    "version": 2
   },
   "file_extension": ".py",
   "mimetype": "text/x-python",
   "name": "python",
   "nbconvert_exporter": "python",
   "pygments_lexer": "ipython2",
   "version": "2.7.16"
  }
 },
 "nbformat": 4,
 "nbformat_minor": 2
}
