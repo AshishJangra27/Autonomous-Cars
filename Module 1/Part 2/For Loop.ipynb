{
 "cells": [
  {
   "cell_type": "markdown",
   "metadata": {},
   "source": [
    "# for loop with Python"
   ]
  },
  {
   "cell_type": "code",
   "execution_count": 5,
   "metadata": {},
   "outputs": [
    {
     "name": "stdout",
     "output_type": "stream",
     "text": [
      "(15, 'X', 1, ' = ', 15)\n",
      "(15, 'X', 2, ' = ', 30)\n",
      "(15, 'X', 3, ' = ', 45)\n",
      "60\n",
      "75\n",
      "90\n",
      "105\n",
      "120\n",
      "135\n",
      "150\n"
     ]
    }
   ],
   "source": [
    "num = 15\n",
    "\n",
    "print(num, \"X\" , 1 , ' = ',num * 1)\n",
    "print(num, \"X\" , 2 , ' = ',num * 2)\n",
    "print(num, \"X\" , 3 , ' = ',num * 3)\n",
    "print(num * 4)\n",
    "print(num * 5)\n",
    "print(num * 6)\n",
    "print(num * 7)\n",
    "print(num * 8)\n",
    "print(num * 9)\n",
    "print(num * 10)"
   ]
  },
  {
   "cell_type": "code",
   "execution_count": 11,
   "metadata": {},
   "outputs": [
    {
     "name": "stdout",
     "output_type": "stream",
     "text": [
      "(1, 12)\n",
      "(2, 24)\n",
      "(3, 36)\n",
      "(4, 48)\n",
      "(5, 60)\n",
      "(6, 72)\n",
      "(7, 84)\n",
      "(8, 96)\n",
      "(9, 108)\n",
      "(10, 120)\n",
      "(11, 132)\n",
      "(12, 144)\n",
      "(13, 156)\n",
      "(14, 168)\n",
      "(15, 180)\n",
      "(16, 192)\n",
      "(17, 204)\n",
      "(18, 216)\n",
      "(19, 228)\n",
      "(20, 240)\n",
      "(21, 252)\n",
      "(22, 264)\n",
      "(23, 276)\n",
      "(24, 288)\n",
      "(25, 300)\n",
      "(26, 312)\n",
      "(27, 324)\n",
      "(28, 336)\n",
      "(29, 348)\n",
      "(30, 360)\n",
      "(31, 372)\n",
      "(32, 384)\n",
      "(33, 396)\n",
      "(34, 408)\n",
      "(35, 420)\n",
      "(36, 432)\n",
      "(37, 444)\n",
      "(38, 456)\n",
      "(39, 468)\n",
      "(40, 480)\n",
      "(41, 492)\n",
      "(42, 504)\n",
      "(43, 516)\n",
      "(44, 528)\n",
      "(45, 540)\n",
      "(46, 552)\n",
      "(47, 564)\n",
      "(48, 576)\n",
      "(49, 588)\n",
      "(50, 600)\n",
      "(51, 612)\n",
      "(52, 624)\n",
      "(53, 636)\n",
      "(54, 648)\n",
      "(55, 660)\n",
      "(56, 672)\n",
      "(57, 684)\n",
      "(58, 696)\n",
      "(59, 708)\n",
      "(60, 720)\n",
      "(61, 732)\n",
      "(62, 744)\n",
      "(63, 756)\n",
      "(64, 768)\n",
      "(65, 780)\n",
      "(66, 792)\n",
      "(67, 804)\n",
      "(68, 816)\n",
      "(69, 828)\n",
      "(70, 840)\n",
      "(71, 852)\n",
      "(72, 864)\n",
      "(73, 876)\n",
      "(74, 888)\n",
      "(75, 900)\n",
      "(76, 912)\n",
      "(77, 924)\n",
      "(78, 936)\n",
      "(79, 948)\n",
      "(80, 960)\n",
      "(81, 972)\n",
      "(82, 984)\n",
      "(83, 996)\n",
      "(84, 1008)\n",
      "(85, 1020)\n",
      "(86, 1032)\n",
      "(87, 1044)\n",
      "(88, 1056)\n",
      "(89, 1068)\n",
      "(90, 1080)\n",
      "(91, 1092)\n",
      "(92, 1104)\n",
      "(93, 1116)\n",
      "(94, 1128)\n",
      "(95, 1140)\n",
      "(96, 1152)\n",
      "(97, 1164)\n",
      "(98, 1176)\n",
      "(99, 1188)\n",
      "(100, 1200)\n"
     ]
    }
   ],
   "source": [
    "num = 12\n",
    "\n",
    "for i in range(1,101):\n",
    "    \n",
    "    print(i,i*num)"
   ]
  },
  {
   "cell_type": "code",
   "execution_count": 15,
   "metadata": {},
   "outputs": [
    {
     "name": "stdout",
     "output_type": "stream",
     "text": [
      "100\n",
      "94\n",
      "88\n",
      "82\n",
      "76\n",
      "70\n",
      "64\n",
      "58\n",
      "52\n",
      "46\n",
      "40\n",
      "34\n",
      "28\n",
      "22\n",
      "16\n",
      "10\n",
      "4\n"
     ]
    }
   ],
   "source": [
    "for i in range(100,1,-6):\n",
    "    print(i)"
   ]
  },
  {
   "cell_type": "code",
   "execution_count": null,
   "metadata": {},
   "outputs": [],
   "source": []
  }
 ],
 "metadata": {
  "kernelspec": {
   "display_name": "Python 2",
   "language": "python",
   "name": "python2"
  },
  "language_info": {
   "codemirror_mode": {
    "name": "ipython",
    "version": 2
   },
   "file_extension": ".py",
   "mimetype": "text/x-python",
   "name": "python",
   "nbconvert_exporter": "python",
   "pygments_lexer": "ipython2",
   "version": "2.7.16"
  }
 },
 "nbformat": 4,
 "nbformat_minor": 2
}
