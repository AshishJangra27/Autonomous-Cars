{
 "cells": [
  {
   "cell_type": "markdown",
   "metadata": {},
   "source": [
    "# If-else with Python"
   ]
  },
  {
   "cell_type": "code",
   "execution_count": 31,
   "metadata": {},
   "outputs": [],
   "source": [
    "age = -125"
   ]
  },
  {
   "cell_type": "code",
   "execution_count": 18,
   "metadata": {},
   "outputs": [
    {
     "data": {
      "text/plain": [
       "False"
      ]
     },
     "execution_count": 18,
     "metadata": {},
     "output_type": "execute_result"
    }
   ],
   "source": [
    "age > 18"
   ]
  },
  {
   "cell_type": "code",
   "execution_count": 32,
   "metadata": {},
   "outputs": [
    {
     "name": "stdout",
     "output_type": "stream",
     "text": [
      "Please enter a valid age!\n",
      "You can not vote!\n"
     ]
    }
   ],
   "source": [
    "if (age < 0):\n",
    "    print('Please enter a valid age!')\n",
    "\n",
    "elif (age >= 18 or age <= 120):\n",
    "    print('You can vote!')  \n",
    "    \n",
    "else:\n",
    "    print('You can not vote!')"
   ]
  },
  {
   "cell_type": "code",
   "execution_count": null,
   "metadata": {},
   "outputs": [],
   "source": []
  },
  {
   "cell_type": "code",
   "execution_count": 39,
   "metadata": {},
   "outputs": [],
   "source": [
    "drinks = True\n",
    "maggie = False\n",
    "coffee = True\n",
    "water  = False\n",
    "burger = True"
   ]
  },
  {
   "cell_type": "code",
   "execution_count": 42,
   "metadata": {},
   "outputs": [
    {
     "name": "stdout",
     "output_type": "stream",
     "text": [
      "Enjoy your drinks\n",
      "Enjoy your Coffee\n",
      "Enjoy your Burger\n",
      "**********************\n",
      "(\"You've ordered\", 3, 'items!')\n",
      "**********************\n"
     ]
    }
   ],
   "source": [
    "orders = 0\n",
    "\n",
    "if (drinks == True):\n",
    "    print('Enjoy your drinks')\n",
    "    orders += 1\n",
    "\n",
    "if (maggie == True):\n",
    "    print('Enjoy your Maggie')\n",
    "    orders += 1\n",
    "    \n",
    "if (coffee == True):\n",
    "    print('Enjoy your Coffee')\n",
    "    orders += 1\n",
    "    \n",
    "if (water == True):\n",
    "    print('Enjoy your water')\n",
    "    orders += 1\n",
    "    \n",
    "if (burger == True):\n",
    "    print('Enjoy your Burger')\n",
    "    orders += 1\n",
    "    \n",
    "print(\"**********************\")\n",
    "print(\"You've ordered\",orders,\"items!\")\n",
    "print(\"**********************\")"
   ]
  },
  {
   "cell_type": "code",
   "execution_count": null,
   "metadata": {},
   "outputs": [],
   "source": []
  }
 ],
 "metadata": {
  "kernelspec": {
   "display_name": "Python 2",
   "language": "python",
   "name": "python2"
  },
  "language_info": {
   "codemirror_mode": {
    "name": "ipython",
    "version": 2
   },
   "file_extension": ".py",
   "mimetype": "text/x-python",
   "name": "python",
   "nbconvert_exporter": "python",
   "pygments_lexer": "ipython2",
   "version": "2.7.16"
  }
 },
 "nbformat": 4,
 "nbformat_minor": 2
}
