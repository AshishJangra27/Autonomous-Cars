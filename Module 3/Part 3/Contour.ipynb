{
 "cells": [
  {
   "cell_type": "code",
   "execution_count": 38,
   "metadata": {},
   "outputs": [],
   "source": [
    "import cv2 as cv"
   ]
  },
  {
   "cell_type": "code",
   "execution_count": 39,
   "metadata": {},
   "outputs": [
    {
     "data": {
      "text/plain": [
       "True"
      ]
     },
     "execution_count": 39,
     "metadata": {},
     "output_type": "execute_result"
    }
   ],
   "source": [
    "img = cv.imread('road_img.jpeg')\n",
    "\n",
    "gray = cv.cvtColor(img, cv.COLOR_BGR2GRAY)\n",
    "\n",
    "edges = cv.Canny(gray, 400,420)\n",
    "\n",
    "cv.imwrite('gray.jpg',gray)\n",
    "cv.imwrite('edges.jpg',edges)"
   ]
  },
  {
   "cell_type": "code",
   "execution_count": 40,
   "metadata": {},
   "outputs": [],
   "source": [
    "contours, _ = cv.findContours(edges, cv.RETR_TREE, cv.CHAIN_APPROX_NONE)"
   ]
  },
  {
   "cell_type": "code",
   "execution_count": 41,
   "metadata": {},
   "outputs": [
    {
     "data": {
      "text/plain": [
       "array([[[182, 156,  66],\n",
       "        [183, 157,  67],\n",
       "        [183, 157,  67],\n",
       "        ...,\n",
       "        [168, 143,  51],\n",
       "        [168, 143,  51],\n",
       "        [168, 143,  51]],\n",
       "\n",
       "       [[183, 157,  67],\n",
       "        [183, 157,  67],\n",
       "        [183, 157,  67],\n",
       "        ...,\n",
       "        [169, 144,  52],\n",
       "        [168, 143,  51],\n",
       "        [168, 143,  51]],\n",
       "\n",
       "       [[183, 157,  67],\n",
       "        [183, 157,  67],\n",
       "        [183, 157,  67],\n",
       "        ...,\n",
       "        [169, 144,  52],\n",
       "        [169, 144,  52],\n",
       "        [169, 144,  52]],\n",
       "\n",
       "       ...,\n",
       "\n",
       "       [[ 31,  26,  23],\n",
       "        [ 22,  17,  14],\n",
       "        [ 21,  18,  14],\n",
       "        ...,\n",
       "        [ 21,  17,  16],\n",
       "        [ 21,  17,  16],\n",
       "        [ 22,  18,  17]],\n",
       "\n",
       "       [[ 28,  23,  20],\n",
       "        [ 25,  20,  17],\n",
       "        [ 24,  21,  17],\n",
       "        ...,\n",
       "        [ 21,  17,  16],\n",
       "        [ 21,  17,  16],\n",
       "        [ 22,  18,  17]],\n",
       "\n",
       "       [[ 24,  19,  16],\n",
       "        [ 25,  20,  17],\n",
       "        [ 25,  22,  18],\n",
       "        ...,\n",
       "        [ 22,  20,  19],\n",
       "        [ 26,  24,  23],\n",
       "        [ 25,  23,  22]]], dtype=uint8)"
      ]
     },
     "execution_count": 41,
     "metadata": {},
     "output_type": "execute_result"
    }
   ],
   "source": [
    "cv.drawContours(img, contours, -1, (0,255,0), 3)"
   ]
  },
  {
   "cell_type": "code",
   "execution_count": 42,
   "metadata": {},
   "outputs": [
    {
     "data": {
      "text/plain": [
       "True"
      ]
     },
     "execution_count": 42,
     "metadata": {},
     "output_type": "execute_result"
    }
   ],
   "source": [
    "cv.imwrite('Detected.jpg',img)"
   ]
  },
  {
   "cell_type": "code",
   "execution_count": null,
   "metadata": {},
   "outputs": [],
   "source": []
  }
 ],
 "metadata": {
  "kernelspec": {
   "display_name": "Python 2",
   "language": "python",
   "name": "python2"
  },
  "language_info": {
   "codemirror_mode": {
    "name": "ipython",
    "version": 2
   },
   "file_extension": ".py",
   "mimetype": "text/x-python",
   "name": "python",
   "nbconvert_exporter": "python",
   "pygments_lexer": "ipython2",
   "version": "2.7.16"
  }
 },
 "nbformat": 4,
 "nbformat_minor": 2
}
