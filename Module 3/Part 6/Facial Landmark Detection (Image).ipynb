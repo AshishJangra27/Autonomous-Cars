{
 "cells": [
  {
   "cell_type": "code",
   "execution_count": 2,
   "metadata": {},
   "outputs": [],
   "source": [
    "import dlib\n",
    "import cv2 as cv\n",
    "import numpy as np"
   ]
  },
  {
   "cell_type": "code",
   "execution_count": 53,
   "metadata": {},
   "outputs": [],
   "source": [
    "img = cv.imread('Mona Lisa.jpg')\n",
    "gray = cv.cvtColor(img, cv.COLOR_BGR2GRAY)\n",
    "\n",
    "face_detector = dlib.get_frontal_face_detector()\n",
    "landmark_predictor = dlib.shape_predictor('shape_predictor_68_face_landmarks.dat')\n",
    "\n",
    "faces = face_detector(gray)"
   ]
  },
  {
   "cell_type": "code",
   "execution_count": 55,
   "metadata": {},
   "outputs": [
    {
     "data": {
      "text/plain": [
       "True"
      ]
     },
     "execution_count": 55,
     "metadata": {},
     "output_type": "execute_result"
    }
   ],
   "source": [
    "for face in faces:\n",
    "    x1 = face.left()\n",
    "    y1 = face.top()\n",
    "    x2 = face.right()\n",
    "    y2 = face.bottom()\n",
    "    \n",
    "landmarks = landmark_predictor(gray, face)\n",
    "\n",
    "\n",
    "\n",
    "for point in range(36, 42):\n",
    "\n",
    "    x = int(landmarks.part(point).x)\n",
    "    y = int(landmarks.part(point).y)\n",
    "    \n",
    "    cv.circle(img, (x,y), 10, (255,0,0), -1)\n",
    "\n",
    "    \n",
    "for point in range(42, 48):\n",
    "\n",
    "    x = int(landmarks.part(point).x)\n",
    "    y = int(landmarks.part(point).y)\n",
    "    \n",
    "    cv.circle(img, (x,y), 10, (0,255,0), -1)\n",
    "    \n",
    "    \n",
    "for point in range(48, 68):\n",
    "\n",
    "    x = int(landmarks.part(point).x)\n",
    "    y = int(landmarks.part(point).y)\n",
    "    \n",
    "    cv.circle(img, (x,y), 10, (0,0,255), -1)\n",
    "\n",
    "\n",
    "# for point in range(0, 68):\n",
    "\n",
    "#     x = int(landmarks.part(point).x)\n",
    "#     y = int(landmarks.part(point).y)\n",
    "    \n",
    "#     cv.circle(img, (x,y), 6, (120,120,120), -1)\n",
    "    \n",
    "    \n",
    "cv.imwrite('result.png',img)"
   ]
  },
  {
   "cell_type": "code",
   "execution_count": 41,
   "metadata": {},
   "outputs": [],
   "source": []
  },
  {
   "cell_type": "code",
   "execution_count": 48,
   "metadata": {},
   "outputs": [
    {
     "name": "stdout",
     "output_type": "stream",
     "text": [
      "36\n",
      "37\n",
      "38\n",
      "39\n",
      "40\n",
      "41\n"
     ]
    }
   ],
   "source": [
    "for point in range(36, 42):\n",
    "    print(point)"
   ]
  }
 ],
 "metadata": {
  "kernelspec": {
   "display_name": "Python 2",
   "language": "python",
   "name": "python2"
  },
  "language_info": {
   "codemirror_mode": {
    "name": "ipython",
    "version": 2
   },
   "file_extension": ".py",
   "mimetype": "text/x-python",
   "name": "python",
   "nbconvert_exporter": "python",
   "pygments_lexer": "ipython2",
   "version": "2.7.16"
  }
 },
 "nbformat": 4,
 "nbformat_minor": 2
}
