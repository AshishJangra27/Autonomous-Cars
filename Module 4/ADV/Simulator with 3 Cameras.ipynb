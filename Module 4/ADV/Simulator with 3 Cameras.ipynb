{
 "cells": [
  {
   "cell_type": "code",
   "execution_count": 51,
   "metadata": {},
   "outputs": [],
   "source": [
    "import cv2 as cv\n",
    "import numpy as np\n",
    "import pandas as pd\n",
    "\n",
    "import matplotlib.pyplot as plt"
   ]
  },
  {
   "cell_type": "code",
   "execution_count": 3,
   "metadata": {},
   "outputs": [],
   "source": [
    "df = pd.read_csv('driving_log.csv')"
   ]
  },
  {
   "cell_type": "code",
   "execution_count": 6,
   "metadata": {},
   "outputs": [
    {
     "data": {
      "text/html": [
       "<div>\n",
       "<style scoped>\n",
       "    .dataframe tbody tr th:only-of-type {\n",
       "        vertical-align: middle;\n",
       "    }\n",
       "\n",
       "    .dataframe tbody tr th {\n",
       "        vertical-align: top;\n",
       "    }\n",
       "\n",
       "    .dataframe thead th {\n",
       "        text-align: right;\n",
       "    }\n",
       "</style>\n",
       "<table border=\"1\" class=\"dataframe\">\n",
       "  <thead>\n",
       "    <tr style=\"text-align: right;\">\n",
       "      <th></th>\n",
       "      <th>Desktop\\track1data\\IMG\\center_2019_04_02_19_25_33_671.jpg</th>\n",
       "      <th>Desktop\\track1data\\IMG\\left_2019_04_02_19_25_33_671.jpg</th>\n",
       "      <th>Desktop\\track1data\\IMG\\right_2019_04_02_19_25_33_671.jpg</th>\n",
       "      <th>0</th>\n",
       "      <th>0.1</th>\n",
       "      <th>0.2</th>\n",
       "      <th>1.058134E-05</th>\n",
       "    </tr>\n",
       "  </thead>\n",
       "  <tbody>\n",
       "    <tr>\n",
       "      <th>0</th>\n",
       "      <td>Desktop\\track1data\\IMG\\center_2019_04_02_19_25...</td>\n",
       "      <td>Desktop\\track1data\\IMG\\left_2019_04_02_19_25_3...</td>\n",
       "      <td>Desktop\\track1data\\IMG\\right_2019_04_02_19_25_...</td>\n",
       "      <td>0.0</td>\n",
       "      <td>0.000000</td>\n",
       "      <td>0</td>\n",
       "      <td>0.000007</td>\n",
       "    </tr>\n",
       "    <tr>\n",
       "      <th>1</th>\n",
       "      <td>Desktop\\track1data\\IMG\\center_2019_04_02_19_25...</td>\n",
       "      <td>Desktop\\track1data\\IMG\\left_2019_04_02_19_25_3...</td>\n",
       "      <td>Desktop\\track1data\\IMG\\right_2019_04_02_19_25_...</td>\n",
       "      <td>0.0</td>\n",
       "      <td>0.000000</td>\n",
       "      <td>0</td>\n",
       "      <td>0.000003</td>\n",
       "    </tr>\n",
       "    <tr>\n",
       "      <th>2</th>\n",
       "      <td>Desktop\\track1data\\IMG\\center_2019_04_02_19_25...</td>\n",
       "      <td>Desktop\\track1data\\IMG\\left_2019_04_02_19_25_3...</td>\n",
       "      <td>Desktop\\track1data\\IMG\\right_2019_04_02_19_25_...</td>\n",
       "      <td>0.0</td>\n",
       "      <td>0.048016</td>\n",
       "      <td>0</td>\n",
       "      <td>0.002267</td>\n",
       "    </tr>\n",
       "    <tr>\n",
       "      <th>3</th>\n",
       "      <td>Desktop\\track1data\\IMG\\center_2019_04_02_19_25...</td>\n",
       "      <td>Desktop\\track1data\\IMG\\left_2019_04_02_19_25_3...</td>\n",
       "      <td>Desktop\\track1data\\IMG\\right_2019_04_02_19_25_...</td>\n",
       "      <td>0.0</td>\n",
       "      <td>0.281203</td>\n",
       "      <td>0</td>\n",
       "      <td>0.175589</td>\n",
       "    </tr>\n",
       "    <tr>\n",
       "      <th>4</th>\n",
       "      <td>Desktop\\track1data\\IMG\\center_2019_04_02_19_25...</td>\n",
       "      <td>Desktop\\track1data\\IMG\\left_2019_04_02_19_25_3...</td>\n",
       "      <td>Desktop\\track1data\\IMG\\right_2019_04_02_19_25_...</td>\n",
       "      <td>0.0</td>\n",
       "      <td>0.091236</td>\n",
       "      <td>0</td>\n",
       "      <td>0.287728</td>\n",
       "    </tr>\n",
       "  </tbody>\n",
       "</table>\n",
       "</div>"
      ],
      "text/plain": [
       "  Desktop\\track1data\\IMG\\center_2019_04_02_19_25_33_671.jpg  \\\n",
       "0  Desktop\\track1data\\IMG\\center_2019_04_02_19_25...          \n",
       "1  Desktop\\track1data\\IMG\\center_2019_04_02_19_25...          \n",
       "2  Desktop\\track1data\\IMG\\center_2019_04_02_19_25...          \n",
       "3  Desktop\\track1data\\IMG\\center_2019_04_02_19_25...          \n",
       "4  Desktop\\track1data\\IMG\\center_2019_04_02_19_25...          \n",
       "\n",
       "  Desktop\\track1data\\IMG\\left_2019_04_02_19_25_33_671.jpg  \\\n",
       "0  Desktop\\track1data\\IMG\\left_2019_04_02_19_25_3...        \n",
       "1  Desktop\\track1data\\IMG\\left_2019_04_02_19_25_3...        \n",
       "2  Desktop\\track1data\\IMG\\left_2019_04_02_19_25_3...        \n",
       "3  Desktop\\track1data\\IMG\\left_2019_04_02_19_25_3...        \n",
       "4  Desktop\\track1data\\IMG\\left_2019_04_02_19_25_3...        \n",
       "\n",
       "  Desktop\\track1data\\IMG\\right_2019_04_02_19_25_33_671.jpg    0       0.1  \\\n",
       "0  Desktop\\track1data\\IMG\\right_2019_04_02_19_25_...        0.0  0.000000   \n",
       "1  Desktop\\track1data\\IMG\\right_2019_04_02_19_25_...        0.0  0.000000   \n",
       "2  Desktop\\track1data\\IMG\\right_2019_04_02_19_25_...        0.0  0.048016   \n",
       "3  Desktop\\track1data\\IMG\\right_2019_04_02_19_25_...        0.0  0.281203   \n",
       "4  Desktop\\track1data\\IMG\\right_2019_04_02_19_25_...        0.0  0.091236   \n",
       "\n",
       "   0.2  1.058134E-05  \n",
       "0    0      0.000007  \n",
       "1    0      0.000003  \n",
       "2    0      0.002267  \n",
       "3    0      0.175589  \n",
       "4    0      0.287728  "
      ]
     },
     "execution_count": 6,
     "metadata": {},
     "output_type": "execute_result"
    }
   ],
   "source": [
    "df.head()"
   ]
  },
  {
   "cell_type": "code",
   "execution_count": 61,
   "metadata": {},
   "outputs": [],
   "source": [
    "center   = df.iloc[ : , 0 : 1].values\n",
    "center_y = df.iloc[ : , 3 : 4].values\n",
    "\n",
    "left     = df.iloc[ : , 1 : 2].values\n",
    "left_y   = df.iloc[ : , 3 : 4].values + 0.2\n",
    "\n",
    "right    = df.iloc[ : , 2 : 3].values\n",
    "right_y  = df.iloc[ : , 3 : 4].values - 0.2"
   ]
  },
  {
   "cell_type": "code",
   "execution_count": 62,
   "metadata": {},
   "outputs": [],
   "source": [
    "X = np.concatenate((center, left, right), axis = 0)\n",
    "y = np.concatenate((center_y, left_y, right_y), axis = 0)"
   ]
  },
  {
   "cell_type": "code",
   "execution_count": 63,
   "metadata": {},
   "outputs": [],
   "source": [
    "data = np.concatenate((X,y), axis = 1)\n",
    "data = shuffle(data)"
   ]
  },
  {
   "cell_type": "code",
   "execution_count": 75,
   "metadata": {
    "scrolled": true
   },
   "outputs": [],
   "source": [
    "pos = 0\n",
    "neg = 0\n",
    "zeros = 0\n",
    "\n",
    "for i in y:\n",
    "    if (i >0):\n",
    "        pos += 1\n",
    "    elif (i <0):\n",
    "        neg +=1\n",
    "    else:\n",
    "        zeros += 1"
   ]
  },
  {
   "cell_type": "code",
   "execution_count": 103,
   "metadata": {},
   "outputs": [],
   "source": [
    "new_data = []\n",
    "\n",
    "for i in range(len(data)):\n",
    "    new_data.append([\"IMG/\"+ data[i][0].split('\\\\')[-1], str(data[i][1])])\n",
    "\n",
    "new_data = np.array(new_data)"
   ]
  },
  {
   "cell_type": "code",
   "execution_count": 106,
   "metadata": {},
   "outputs": [
    {
     "data": {
      "text/plain": [
       "array(['Desktop\\\\track1data\\\\IMG\\\\center_2019_04_02_19_37_10_515.jpg',\n",
       "       0.0], dtype=object)"
      ]
     },
     "execution_count": 106,
     "metadata": {},
     "output_type": "execute_result"
    }
   ],
   "source": [
    "data[0]"
   ]
  },
  {
   "cell_type": "code",
   "execution_count": 107,
   "metadata": {},
   "outputs": [
    {
     "data": {
      "text/plain": [
       "array(['IMG/center_2019_04_02_19_37_10_515.jpg', '0.0'], dtype='|S38')"
      ]
     },
     "execution_count": 107,
     "metadata": {},
     "output_type": "execute_result"
    }
   ],
   "source": [
    "new_data[0]"
   ]
  },
  {
   "cell_type": "code",
   "execution_count": 108,
   "metadata": {},
   "outputs": [],
   "source": [
    "np.save(\"Processed_data\",new_data)"
   ]
  },
  {
   "cell_type": "code",
   "execution_count": null,
   "metadata": {},
   "outputs": [],
   "source": []
  }
 ],
 "metadata": {
  "kernelspec": {
   "display_name": "Python 2",
   "language": "python",
   "name": "python2"
  },
  "language_info": {
   "codemirror_mode": {
    "name": "ipython",
    "version": 2
   },
   "file_extension": ".py",
   "mimetype": "text/x-python",
   "name": "python",
   "nbconvert_exporter": "python",
   "pygments_lexer": "ipython2",
   "version": "2.7.16"
  }
 },
 "nbformat": 4,
 "nbformat_minor": 2
}
