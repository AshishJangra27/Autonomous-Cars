{
 "cells": [
  {
   "cell_type": "code",
   "execution_count": 1,
   "metadata": {},
   "outputs": [],
   "source": [
    "import numpy as np"
   ]
  },
  {
   "cell_type": "code",
   "execution_count": 2,
   "metadata": {},
   "outputs": [],
   "source": [
    "data = np.load('Processed_data.npy')"
   ]
  },
  {
   "cell_type": "code",
   "execution_count": 11,
   "metadata": {},
   "outputs": [],
   "source": [
    "img_path = data[:,:1]\n",
    "stering_angle = data[:,1:]"
   ]
  },
  {
   "cell_type": "code",
   "execution_count": 12,
   "metadata": {},
   "outputs": [
    {
     "data": {
      "text/plain": [
       "array([['IMG/center_2019_04_02_19_37_10_515.jpg'],\n",
       "       ['IMG/center_2019_04_02_19_37_20_003.jpg'],\n",
       "       ['IMG/center_2019_04_02_19_30_42_931.jpg'],\n",
       "       ...,\n",
       "       ['IMG/center_2019_04_02_19_26_45_349.jpg'],\n",
       "       ['IMG/right_2019_04_02_19_30_56_301.jpg'],\n",
       "       ['IMG/right_2019_04_02_19_35_23_836.jpg']], dtype='|S38')"
      ]
     },
     "execution_count": 12,
     "metadata": {},
     "output_type": "execute_result"
    }
   ],
   "source": [
    "img_path"
   ]
  },
  {
   "cell_type": "code",
   "execution_count": 13,
   "metadata": {},
   "outputs": [
    {
     "data": {
      "text/plain": [
       "array([['0.0'],\n",
       "       ['0.0'],\n",
       "       ['0.0'],\n",
       "       ...,\n",
       "       ['0.0'],\n",
       "       ['-0.2'],\n",
       "       ['-0.55']], dtype='|S38')"
      ]
     },
     "execution_count": 13,
     "metadata": {},
     "output_type": "execute_result"
    }
   ],
   "source": [
    "stering_angle"
   ]
  },
  {
   "cell_type": "code",
   "execution_count": null,
   "metadata": {},
   "outputs": [],
   "source": []
  }
 ],
 "metadata": {
  "kernelspec": {
   "display_name": "Python 2",
   "language": "python",
   "name": "python2"
  },
  "language_info": {
   "codemirror_mode": {
    "name": "ipython",
    "version": 2
   },
   "file_extension": ".py",
   "mimetype": "text/x-python",
   "name": "python",
   "nbconvert_exporter": "python",
   "pygments_lexer": "ipython2",
   "version": "2.7.16"
  }
 },
 "nbformat": 4,
 "nbformat_minor": 2
}
