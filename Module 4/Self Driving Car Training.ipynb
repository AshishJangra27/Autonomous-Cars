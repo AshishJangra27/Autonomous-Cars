{
 "cells": [
  {
   "cell_type": "code",
   "execution_count": 269,
   "metadata": {},
   "outputs": [],
   "source": [
    "import cv2 as cv\n",
    "import numpy as np\n",
    "\n",
    "import matplotlib.pyplot as plt\n",
    "\n",
    "from sklearn.model_selection import train_test_split\n",
    "\n",
    "from tensorflow.keras.models import Sequential, load_model\n",
    "from tensorflow.keras.layers import Convolution2D, Flatten, Dense"
   ]
  },
  {
   "cell_type": "code",
   "execution_count": 256,
   "metadata": {},
   "outputs": [],
   "source": [
    "data = np.load('final_data.npy')\n",
    "\n",
    "imgs = data[0]\n",
    "steering = data[1]\n",
    "\n",
    "X_train, X_test, y_train, y_test = train_test_split(imgs, steering, test_size = 0.2)"
   ]
  },
  {
   "cell_type": "code",
   "execution_count": 257,
   "metadata": {},
   "outputs": [],
   "source": [
    "def batch_generator(imgs, steering, batch_size):   \n",
    "   \n",
    "    while True:\n",
    "        \n",
    "        X = []\n",
    "        y = []\n",
    "    \n",
    "        for i in range(batch_size):\n",
    "        \n",
    "            index = np.random.randint(0,len(imgs)-1)\n",
    "            img = cv.imread(imgs[index])\n",
    "            \n",
    "                \n",
    "            img = cv.cvtColor(img, cv.COLOR_BGR2YUV)\n",
    "            img = img[60:135,:,:]\n",
    "            \n",
    "            img = cv.resize(img , (200,66))\n",
    "            \n",
    "            \n",
    "\n",
    "            if (np.random.rand() > 0.5):\n",
    "\n",
    "                brighness_cont = np.random.randint(1,4)\n",
    "                img = img / brighness_cont\n",
    "\n",
    "            if (np.random.rand() > 0.5):\n",
    "\n",
    "                img = cv.flip(img, 1)\n",
    "                steering_angle = -float(steering[index])\n",
    "\n",
    "            else:\n",
    "                steering_angle = float(steering[index])\n",
    "            \n",
    "            \n",
    "            X.append(img)\n",
    "            y.append(steering_angle)\n",
    "            \n",
    "        X = np.array(X)\n",
    "        y = np.array(y)\n",
    "\n",
    "        yield X,y"
   ]
  },
  {
   "cell_type": "code",
   "execution_count": 291,
   "metadata": {},
   "outputs": [],
   "source": [
    "model = Sequential()\n",
    "\n",
    "model.add(Convolution2D(24, (5,5), strides = (2,2), input_shape = (66,200,3), activation = 'elu'))\n",
    "model.add(Convolution2D(36, (5,5), strides = (2,2), activation = 'elu'))\n",
    "model.add(Convolution2D(48, (5,5), strides = (2,2), activation = 'elu'))\n",
    "\n",
    "model.add(Convolution2D(64, (3,3), activation = 'elu'))\n",
    "model.add(Convolution2D(64, (3,3), activation = 'elu'))\n",
    "\n",
    "model.add(Flatten())\n",
    "\n",
    "model.add(Dense(100, activation = 'elu'))\n",
    "model.add(Dense(50, activation = 'elu'))\n",
    "model.add(Dense(10, activation = 'elu'))\n",
    "model.add(Dense(1))\n",
    "\n",
    "model.compile(optimizer = 'adam', loss = 'mse', metrics = ['accuracy'])"
   ]
  },
  {
   "cell_type": "code",
   "execution_count": 292,
   "metadata": {},
   "outputs": [
    {
     "name": "stdout",
     "output_type": "stream",
     "text": [
      "Model: \"sequential_7\"\n",
      "_________________________________________________________________\n",
      "Layer (type)                 Output Shape              Param #   \n",
      "=================================================================\n",
      "conv2d_35 (Conv2D)           (None, 31, 98, 24)        1824      \n",
      "_________________________________________________________________\n",
      "conv2d_36 (Conv2D)           (None, 14, 47, 36)        21636     \n",
      "_________________________________________________________________\n",
      "conv2d_37 (Conv2D)           (None, 5, 22, 48)         43248     \n",
      "_________________________________________________________________\n",
      "conv2d_38 (Conv2D)           (None, 3, 20, 64)         27712     \n",
      "_________________________________________________________________\n",
      "conv2d_39 (Conv2D)           (None, 1, 18, 64)         36928     \n",
      "_________________________________________________________________\n",
      "flatten_5 (Flatten)          (None, 1152)              0         \n",
      "_________________________________________________________________\n",
      "dense_20 (Dense)             (None, 100)               115300    \n",
      "_________________________________________________________________\n",
      "dense_21 (Dense)             (None, 50)                5050      \n",
      "_________________________________________________________________\n",
      "dense_22 (Dense)             (None, 10)                510       \n",
      "_________________________________________________________________\n",
      "dense_23 (Dense)             (None, 1)                 11        \n",
      "=================================================================\n",
      "Total params: 252,219\n",
      "Trainable params: 252,219\n",
      "Non-trainable params: 0\n",
      "_________________________________________________________________\n"
     ]
    }
   ],
   "source": [
    "model.summary()"
   ]
  },
  {
   "cell_type": "code",
   "execution_count": 293,
   "metadata": {},
   "outputs": [
    {
     "name": "stdout",
     "output_type": "stream",
     "text": [
      "Epoch 1/8\n",
      "299/300 [============================>.] - ETA: 0s - loss: 2.2842 - acc: 0.2138Epoch 1/8\n",
      "300/300 [==============================] - 217s 723ms/step - loss: 2.2769 - acc: 0.2138 - val_loss: 0.0720 - val_acc: 0.2248\n",
      "Epoch 2/8\n",
      "299/300 [============================>.] - ETA: 0s - loss: 0.0627 - acc: 0.2289Epoch 1/8\n",
      "300/300 [==============================] - 211s 703ms/step - loss: 0.0627 - acc: 0.2291 - val_loss: 0.0792 - val_acc: 0.2319\n",
      "Epoch 3/8\n",
      "299/300 [============================>.] - ETA: 0s - loss: 0.0562 - acc: 0.2228Epoch 1/8\n",
      "300/300 [==============================] - 221s 737ms/step - loss: 0.0561 - acc: 0.2228 - val_loss: 0.0469 - val_acc: 0.2277\n",
      "Epoch 4/8\n",
      "299/300 [============================>.] - ETA: 0s - loss: 0.0506 - acc: 0.2262Epoch 1/8\n",
      "300/300 [==============================] - 235s 783ms/step - loss: 0.0506 - acc: 0.2262 - val_loss: 0.0485 - val_acc: 0.2299\n",
      "Epoch 5/8\n",
      "299/300 [============================>.] - ETA: 0s - loss: 0.0453 - acc: 0.2308Epoch 1/8\n",
      "300/300 [==============================] - 210s 699ms/step - loss: 0.0452 - acc: 0.2308 - val_loss: 0.0456 - val_acc: 0.2288\n",
      "Epoch 6/8\n",
      "299/300 [============================>.] - ETA: 0s - loss: 0.0453 - acc: 0.2298Epoch 1/8\n",
      "300/300 [==============================] - 271s 903ms/step - loss: 0.0453 - acc: 0.2299 - val_loss: 0.0421 - val_acc: 0.2256\n",
      "Epoch 7/8\n",
      "299/300 [============================>.] - ETA: 0s - loss: 0.0417 - acc: 0.2264Epoch 1/8\n",
      "300/300 [==============================] - 225s 750ms/step - loss: 0.0418 - acc: 0.2264 - val_loss: 0.0463 - val_acc: 0.2324\n",
      "Epoch 8/8\n",
      "299/300 [============================>.] - ETA: 0s - loss: 0.0397 - acc: 0.2285Epoch 1/8\n",
      "300/300 [==============================] - 243s 810ms/step - loss: 0.0397 - acc: 0.2286 - val_loss: 0.0420 - val_acc: 0.2313\n"
     ]
    }
   ],
   "source": [
    "history = model.fit(batch_generator(X_train, y_train, 64), steps_per_epoch = 300, epochs = 8,\n",
    "         validation_data = batch_generator(X_test,y_test, 64), validation_steps = 200)"
   ]
  },
  {
   "cell_type": "code",
   "execution_count": 276,
   "metadata": {},
   "outputs": [
    {
     "data": {
      "text/plain": [
       "{'loss': [0.030937531447658935, 0.029367038495838643],\n",
       " 'val_loss': [0.043898248514160514, 0.0487028316501528]}"
      ]
     },
     "execution_count": 276,
     "metadata": {},
     "output_type": "execute_result"
    }
   ],
   "source": [
    "history.history['loss']"
   ]
  },
  {
   "cell_type": "code",
   "execution_count": 277,
   "metadata": {},
   "outputs": [
    {
     "data": {
      "text/plain": [
       "[0.030937531447658935, 0.029367038495838643]"
      ]
     },
     "execution_count": 277,
     "metadata": {},
     "output_type": "execute_result"
    }
   ],
   "source": [
    "history.history['loss']"
   ]
  },
  {
   "cell_type": "code",
   "execution_count": 278,
   "metadata": {},
   "outputs": [
    {
     "data": {
      "text/plain": [
       "[0.043898248514160514, 0.0487028316501528]"
      ]
     },
     "execution_count": 278,
     "metadata": {},
     "output_type": "execute_result"
    }
   ],
   "source": [
    "history.history['val_loss']"
   ]
  },
  {
   "cell_type": "code",
   "execution_count": 282,
   "metadata": {},
   "outputs": [
    {
     "data": {
      "image/png": "[encoded data removed]",
      "text/plain": [
       "<Figure size 432x288 with 1 Axes>"
      ]
     },
     "metadata": {
      "needs_background": "light"
     },
     "output_type": "display_data"
    }
   ],
   "source": [
    "plt.plot(history.history['loss'])\n",
    "\n",
    "plt.ylabel(\"Loss\")\n",
    "plt.xlabel(\"Epoch\")\n",
    "\n",
    "plt.show()"
   ]
  },
  {
   "cell_type": "code",
   "execution_count": 283,
   "metadata": {},
   "outputs": [
    {
     "data": {
      "image/png": "[encoded data removed]",
      "text/plain": [
       "<Figure size 432x288 with 1 Axes>"
      ]
     },
     "metadata": {
      "needs_background": "light"
     },
     "output_type": "display_data"
    }
   ],
   "source": [
    "plt.plot(history.history['val_loss'])\n",
    "\n",
    "plt.ylabel(\"Loss\")\n",
    "plt.xlabel(\"Epoch\")\n",
    "\n",
    "plt.show()"
   ]
  },
  {
   "cell_type": "code",
   "execution_count": 294,
   "metadata": {},
   "outputs": [],
   "source": [
    "model.save('Model.h5')"
   ]
  },
  {
   "cell_type": "code",
   "execution_count": 286,
   "metadata": {},
   "outputs": [],
   "source": [
    "model = load_model('12_Epoch_Model.h5')"
   ]
  },
  {
   "cell_type": "code",
   "execution_count": null,
   "metadata": {},
   "outputs": [],
   "source": []
  }
 ],
 "metadata": {
  "kernelspec": {
   "display_name": "Python 2",
   "language": "python",
   "name": "python2"
  },
  "language_info": {
   "codemirror_mode": {
    "name": "ipython",
    "version": 2
   },
   "file_extension": ".py",
   "mimetype": "text/x-python",
   "name": "python",
   "nbconvert_exporter": "python",
   "pygments_lexer": "ipython2",
   "version": "2.7.16"
  }
 },
 "nbformat": 4,
 "nbformat_minor": 2
}
