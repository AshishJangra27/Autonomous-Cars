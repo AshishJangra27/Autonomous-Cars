{
 "cells": [
  {
   "cell_type": "code",
   "execution_count": 1,
   "metadata": {},
   "outputs": [],
   "source": [
    "import numpy as np\n",
    "import pandas as pd\n",
    "\n",
    "from sklearn.utils import shuffle\n",
    "import matplotlib.pyplot as plt"
   ]
  },
  {
   "cell_type": "code",
   "execution_count": 2,
   "metadata": {},
   "outputs": [
    {
     "data": {
      "text/html": [
       "<div>\n",
       "<style scoped>\n",
       "    .dataframe tbody tr th:only-of-type {\n",
       "        vertical-align: middle;\n",
       "    }\n",
       "\n",
       "    .dataframe tbody tr th {\n",
       "        vertical-align: top;\n",
       "    }\n",
       "\n",
       "    .dataframe thead th {\n",
       "        text-align: right;\n",
       "    }\n",
       "</style>\n",
       "<table border=\"1\" class=\"dataframe\">\n",
       "  <thead>\n",
       "    <tr style=\"text-align: right;\">\n",
       "      <th></th>\n",
       "      <th>Center</th>\n",
       "      <th>Left</th>\n",
       "      <th>Right</th>\n",
       "      <th>Steering</th>\n",
       "      <th>Throttle</th>\n",
       "      <th>Break</th>\n",
       "      <th>Speed</th>\n",
       "    </tr>\n",
       "  </thead>\n",
       "  <tbody>\n",
       "    <tr>\n",
       "      <th>0</th>\n",
       "      <td>Desktop\\track1data\\IMG\\center_2019_04_02_19_25...</td>\n",
       "      <td>Desktop\\track1data\\IMG\\left_2019_04_02_19_25_3...</td>\n",
       "      <td>Desktop\\track1data\\IMG\\right_2019_04_02_19_25_...</td>\n",
       "      <td>0.0</td>\n",
       "      <td>0.000000</td>\n",
       "      <td>0</td>\n",
       "      <td>0.000011</td>\n",
       "    </tr>\n",
       "    <tr>\n",
       "      <th>1</th>\n",
       "      <td>Desktop\\track1data\\IMG\\center_2019_04_02_19_25...</td>\n",
       "      <td>Desktop\\track1data\\IMG\\left_2019_04_02_19_25_3...</td>\n",
       "      <td>Desktop\\track1data\\IMG\\right_2019_04_02_19_25_...</td>\n",
       "      <td>0.0</td>\n",
       "      <td>0.000000</td>\n",
       "      <td>0</td>\n",
       "      <td>0.000007</td>\n",
       "    </tr>\n",
       "    <tr>\n",
       "      <th>2</th>\n",
       "      <td>Desktop\\track1data\\IMG\\center_2019_04_02_19_25...</td>\n",
       "      <td>Desktop\\track1data\\IMG\\left_2019_04_02_19_25_3...</td>\n",
       "      <td>Desktop\\track1data\\IMG\\right_2019_04_02_19_25_...</td>\n",
       "      <td>0.0</td>\n",
       "      <td>0.000000</td>\n",
       "      <td>0</td>\n",
       "      <td>0.000003</td>\n",
       "    </tr>\n",
       "    <tr>\n",
       "      <th>3</th>\n",
       "      <td>Desktop\\track1data\\IMG\\center_2019_04_02_19_25...</td>\n",
       "      <td>Desktop\\track1data\\IMG\\left_2019_04_02_19_25_3...</td>\n",
       "      <td>Desktop\\track1data\\IMG\\right_2019_04_02_19_25_...</td>\n",
       "      <td>0.0</td>\n",
       "      <td>0.048016</td>\n",
       "      <td>0</td>\n",
       "      <td>0.002267</td>\n",
       "    </tr>\n",
       "    <tr>\n",
       "      <th>4</th>\n",
       "      <td>Desktop\\track1data\\IMG\\center_2019_04_02_19_25...</td>\n",
       "      <td>Desktop\\track1data\\IMG\\left_2019_04_02_19_25_3...</td>\n",
       "      <td>Desktop\\track1data\\IMG\\right_2019_04_02_19_25_...</td>\n",
       "      <td>0.0</td>\n",
       "      <td>0.281203</td>\n",
       "      <td>0</td>\n",
       "      <td>0.175589</td>\n",
       "    </tr>\n",
       "    <tr>\n",
       "      <th>5</th>\n",
       "      <td>Desktop\\track1data\\IMG\\center_2019_04_02_19_25...</td>\n",
       "      <td>Desktop\\track1data\\IMG\\left_2019_04_02_19_25_3...</td>\n",
       "      <td>Desktop\\track1data\\IMG\\right_2019_04_02_19_25_...</td>\n",
       "      <td>0.0</td>\n",
       "      <td>0.091236</td>\n",
       "      <td>0</td>\n",
       "      <td>0.287728</td>\n",
       "    </tr>\n",
       "    <tr>\n",
       "      <th>6</th>\n",
       "      <td>Desktop\\track1data\\IMG\\center_2019_04_02_19_25...</td>\n",
       "      <td>Desktop\\track1data\\IMG\\left_2019_04_02_19_25_3...</td>\n",
       "      <td>Desktop\\track1data\\IMG\\right_2019_04_02_19_25_...</td>\n",
       "      <td>0.0</td>\n",
       "      <td>0.129511</td>\n",
       "      <td>0</td>\n",
       "      <td>0.382190</td>\n",
       "    </tr>\n",
       "    <tr>\n",
       "      <th>7</th>\n",
       "      <td>Desktop\\track1data\\IMG\\center_2019_04_02_19_25...</td>\n",
       "      <td>Desktop\\track1data\\IMG\\left_2019_04_02_19_25_3...</td>\n",
       "      <td>Desktop\\track1data\\IMG\\right_2019_04_02_19_25_...</td>\n",
       "      <td>0.0</td>\n",
       "      <td>0.321048</td>\n",
       "      <td>0</td>\n",
       "      <td>0.527709</td>\n",
       "    </tr>\n",
       "    <tr>\n",
       "      <th>8</th>\n",
       "      <td>Desktop\\track1data\\IMG\\center_2019_04_02_19_25...</td>\n",
       "      <td>Desktop\\track1data\\IMG\\left_2019_04_02_19_25_3...</td>\n",
       "      <td>Desktop\\track1data\\IMG\\right_2019_04_02_19_25_...</td>\n",
       "      <td>0.0</td>\n",
       "      <td>0.213252</td>\n",
       "      <td>0</td>\n",
       "      <td>0.813831</td>\n",
       "    </tr>\n",
       "    <tr>\n",
       "      <th>9</th>\n",
       "      <td>Desktop\\track1data\\IMG\\center_2019_04_02_19_25...</td>\n",
       "      <td>Desktop\\track1data\\IMG\\left_2019_04_02_19_25_3...</td>\n",
       "      <td>Desktop\\track1data\\IMG\\right_2019_04_02_19_25_...</td>\n",
       "      <td>0.0</td>\n",
       "      <td>0.340305</td>\n",
       "      <td>0</td>\n",
       "      <td>1.020443</td>\n",
       "    </tr>\n",
       "  </tbody>\n",
       "</table>\n",
       "</div>"
      ],
      "text/plain": [
       "                                              Center  \\\n",
       "0  Desktop\\track1data\\IMG\\center_2019_04_02_19_25...   \n",
       "1  Desktop\\track1data\\IMG\\center_2019_04_02_19_25...   \n",
       "2  Desktop\\track1data\\IMG\\center_2019_04_02_19_25...   \n",
       "3  Desktop\\track1data\\IMG\\center_2019_04_02_19_25...   \n",
       "4  Desktop\\track1data\\IMG\\center_2019_04_02_19_25...   \n",
       "5  Desktop\\track1data\\IMG\\center_2019_04_02_19_25...   \n",
       "6  Desktop\\track1data\\IMG\\center_2019_04_02_19_25...   \n",
       "7  Desktop\\track1data\\IMG\\center_2019_04_02_19_25...   \n",
       "8  Desktop\\track1data\\IMG\\center_2019_04_02_19_25...   \n",
       "9  Desktop\\track1data\\IMG\\center_2019_04_02_19_25...   \n",
       "\n",
       "                                                Left  \\\n",
       "0  Desktop\\track1data\\IMG\\left_2019_04_02_19_25_3...   \n",
       "1  Desktop\\track1data\\IMG\\left_2019_04_02_19_25_3...   \n",
       "2  Desktop\\track1data\\IMG\\left_2019_04_02_19_25_3...   \n",
       "3  Desktop\\track1data\\IMG\\left_2019_04_02_19_25_3...   \n",
       "4  Desktop\\track1data\\IMG\\left_2019_04_02_19_25_3...   \n",
       "5  Desktop\\track1data\\IMG\\left_2019_04_02_19_25_3...   \n",
       "6  Desktop\\track1data\\IMG\\left_2019_04_02_19_25_3...   \n",
       "7  Desktop\\track1data\\IMG\\left_2019_04_02_19_25_3...   \n",
       "8  Desktop\\track1data\\IMG\\left_2019_04_02_19_25_3...   \n",
       "9  Desktop\\track1data\\IMG\\left_2019_04_02_19_25_3...   \n",
       "\n",
       "                                               Right  Steering  Throttle  \\\n",
       "0  Desktop\\track1data\\IMG\\right_2019_04_02_19_25_...       0.0  0.000000   \n",
       "1  Desktop\\track1data\\IMG\\right_2019_04_02_19_25_...       0.0  0.000000   \n",
       "2  Desktop\\track1data\\IMG\\right_2019_04_02_19_25_...       0.0  0.000000   \n",
       "3  Desktop\\track1data\\IMG\\right_2019_04_02_19_25_...       0.0  0.048016   \n",
       "4  Desktop\\track1data\\IMG\\right_2019_04_02_19_25_...       0.0  0.281203   \n",
       "5  Desktop\\track1data\\IMG\\right_2019_04_02_19_25_...       0.0  0.091236   \n",
       "6  Desktop\\track1data\\IMG\\right_2019_04_02_19_25_...       0.0  0.129511   \n",
       "7  Desktop\\track1data\\IMG\\right_2019_04_02_19_25_...       0.0  0.321048   \n",
       "8  Desktop\\track1data\\IMG\\right_2019_04_02_19_25_...       0.0  0.213252   \n",
       "9  Desktop\\track1data\\IMG\\right_2019_04_02_19_25_...       0.0  0.340305   \n",
       "\n",
       "   Break     Speed  \n",
       "0      0  0.000011  \n",
       "1      0  0.000007  \n",
       "2      0  0.000003  \n",
       "3      0  0.002267  \n",
       "4      0  0.175589  \n",
       "5      0  0.287728  \n",
       "6      0  0.382190  \n",
       "7      0  0.527709  \n",
       "8      0  0.813831  \n",
       "9      0  1.020443  "
      ]
     },
     "execution_count": 2,
     "metadata": {},
     "output_type": "execute_result"
    }
   ],
   "source": [
    "col_names = ['Center','Left','Right', 'Steering','Throttle', 'Break','Speed']\n",
    "df = pd.read_csv('driving_log.csv', names = col_names)\n",
    "\n",
    "df.head(10)"
   ]
  },
  {
   "cell_type": "code",
   "execution_count": 3,
   "metadata": {},
   "outputs": [],
   "source": [
    "steering  = df['Steering'].values\n",
    "imgs      = df['Center'].values"
   ]
  },
  {
   "cell_type": "code",
   "execution_count": 4,
   "metadata": {},
   "outputs": [
    {
     "name": "stdout",
     "output_type": "stream",
     "text": [
      "('Positive Numbers: ', 344)\n",
      "('Negative Numbers: ', 1849)\n",
      "('Zeros Numbers: ', 8422)\n"
     ]
    }
   ],
   "source": [
    "pos = 0\n",
    "neg = 0\n",
    "zero = 0\n",
    "\n",
    "for i in steering:\n",
    "\n",
    "    if (i > 0):\n",
    "        pos += 1\n",
    "\n",
    "    elif (i < 0):\n",
    "        neg += 1\n",
    "\n",
    "    elif (i == 0):\n",
    "        zero += 1\n",
    "        \n",
    "print('Positive Numbers: ',pos)\n",
    "print('Negative Numbers: ',neg)\n",
    "print('Zeros Numbers: ',zero)"
   ]
  },
  {
   "cell_type": "code",
   "execution_count": 5,
   "metadata": {},
   "outputs": [
    {
     "data": {
      "text/plain": [
       "2542"
      ]
     },
     "execution_count": 5,
     "metadata": {},
     "output_type": "execute_result"
    }
   ],
   "source": [
    "1110 + 932 + 500 "
   ]
  },
  {
   "cell_type": "code",
   "execution_count": 6,
   "metadata": {},
   "outputs": [],
   "source": [
    "num_bins = 25\n",
    "\n",
    "hist , bins = np.histogram(steering, num_bins)"
   ]
  },
  {
   "cell_type": "code",
   "execution_count": 7,
   "metadata": {},
   "outputs": [
    {
     "data": {
      "text/plain": [
       "array([   9,   14,    7,   33,   67,   60,  173,  105,  343,  399,  209,\n",
       "        430, 8422,   59,   36,   59,   58,   23,   28,   14,   24,   16,\n",
       "          7,    9,   11])"
      ]
     },
     "execution_count": 7,
     "metadata": {},
     "output_type": "execute_result"
    }
   ],
   "source": [
    "hist"
   ]
  },
  {
   "cell_type": "code",
   "execution_count": 8,
   "metadata": {},
   "outputs": [
    {
     "data": {
      "text/plain": [
       "array([-1.  , -0.92, -0.84, -0.76, -0.68, -0.6 , -0.52, -0.44, -0.36,\n",
       "       -0.28, -0.2 , -0.12, -0.04,  0.04,  0.12,  0.2 ,  0.28,  0.36,\n",
       "        0.44,  0.52,  0.6 ,  0.68,  0.76,  0.84,  0.92,  1.  ])"
      ]
     },
     "execution_count": 8,
     "metadata": {},
     "output_type": "execute_result"
    }
   ],
   "source": [
    "bins"
   ]
  },
  {
   "cell_type": "code",
   "execution_count": 9,
   "metadata": {},
   "outputs": [],
   "source": [
    "center = (bins[1:] + bins[:-1])/2."
   ]
  },
  {
   "cell_type": "code",
   "execution_count": 10,
   "metadata": {
    "scrolled": true
   },
   "outputs": [
    {
     "data": {
      "text/plain": [
       "[<matplotlib.lines.Line2D at 0x7f81c9788890>]"
      ]
     },
     "execution_count": 10,
     "metadata": {},
     "output_type": "execute_result"
    },
    {
     "data": {
      "image/png": "[encoded data removed]",
      "text/plain": [
       "<Figure size 432x288 with 1 Axes>"
      ]
     },
     "metadata": {
      "needs_background": "light"
     },
     "output_type": "display_data"
    }
   ],
   "source": [
    "plt.bar(center, hist, width = 0.05)\n",
    "plt.plot((-1,1), (600,600))"
   ]
  },
  {
   "cell_type": "code",
   "execution_count": 11,
   "metadata": {},
   "outputs": [],
   "source": [
    "data = df.values\n",
    "data = shuffle(data)"
   ]
  },
  {
   "cell_type": "code",
   "execution_count": 12,
   "metadata": {},
   "outputs": [],
   "source": [
    "counter = 0\n",
    "new_data = []\n",
    "\n",
    "for i in range(len(data)):\n",
    "\n",
    "    if (data[i][3] == 0):\n",
    "        if (counter != 600):\n",
    "            counter += 1\n",
    "            new_data.append(data[i])\n",
    "        else:\n",
    "            break"
   ]
  },
  {
   "cell_type": "code",
   "execution_count": 252,
   "metadata": {},
   "outputs": [],
   "source": [
    "for i in range(len(data)):\n",
    "    \n",
    "    if (data[i][3] != 0):\n",
    "        new_data.append(data[i])"
   ]
  },
  {
   "cell_type": "code",
   "execution_count": 253,
   "metadata": {},
   "outputs": [
    {
     "data": {
      "text/plain": [
       "2642"
      ]
     },
     "execution_count": 253,
     "metadata": {},
     "output_type": "execute_result"
    }
   ],
   "source": [
    "len( new_data )"
   ]
  },
  {
   "cell_type": "code",
   "execution_count": 254,
   "metadata": {},
   "outputs": [
    {
     "data": {
      "text/plain": [
       "[<matplotlib.lines.Line2D at 0x7f9f4210d150>]"
      ]
     },
     "execution_count": 254,
     "metadata": {},
     "output_type": "execute_result"
    },
    {
     "data": {
      "image/png": "[encoded data removed]",
      "text/plain": [
       "<Figure size 432x288 with 1 Axes>"
      ]
     },
     "metadata": {
      "needs_background": "light"
     },
     "output_type": "display_data"
    }
   ],
   "source": [
    "plt.bar(center, hist, width = 0.05)\n",
    "plt.plot((-1,1), (600,600))"
   ]
  },
  {
   "cell_type": "code",
   "execution_count": 255,
   "metadata": {},
   "outputs": [],
   "source": [
    "new_data = shuffle(new_data)\n",
    "\n",
    "steering = []\n",
    "\n",
    "for i in new_data:\n",
    "    steering.append(i[3])"
   ]
  },
  {
   "cell_type": "code",
   "execution_count": 256,
   "metadata": {},
   "outputs": [],
   "source": [
    "num_bins = 25\n",
    "\n",
    "hist , bins = np.histogram(steering, num_bins)"
   ]
  },
  {
   "cell_type": "code",
   "execution_count": 257,
   "metadata": {},
   "outputs": [],
   "source": [
    "center = (bins[:-1] + bins[1:])/2"
   ]
  },
  {
   "cell_type": "code",
   "execution_count": 258,
   "metadata": {},
   "outputs": [
    {
     "data": {
      "text/plain": [
       "<BarContainer object of 25 artists>"
      ]
     },
     "execution_count": 258,
     "metadata": {},
     "output_type": "execute_result"
    },
    {
     "data": {
      "image/png": "[encoded data removed]",
      "text/plain": [
       "<Figure size 432x288 with 1 Axes>"
      ]
     },
     "metadata": {
      "needs_background": "light"
     },
     "output_type": "display_data"
    }
   ],
   "source": [
    "plt.bar(center, hist, width = 0.05)\n",
    "# plt.plot((-1,1), (500,500))"
   ]
  },
  {
   "cell_type": "code",
   "execution_count": 262,
   "metadata": {},
   "outputs": [],
   "source": [
    "new_data = np.array(new_data)"
   ]
  },
  {
   "cell_type": "code",
   "execution_count": 263,
   "metadata": {},
   "outputs": [],
   "source": [
    "np.save(\"precessed_data_logs.npy\",new_data)"
   ]
  },
  {
   "cell_type": "code",
   "execution_count": 264,
   "metadata": {},
   "outputs": [
    {
     "name": "stdout",
     "output_type": "stream",
     "text": [
      "\u001b[34mDefault Mac desktop Universal.app\u001b[m\u001b[m driving_log.csv\r\n",
      "\u001b[34mIMG\u001b[m\u001b[m                               precessed_data_logs.npy\r\n",
      "Walkthrough.ipynb                 simulator-macos.zip\r\n"
     ]
    }
   ],
   "source": [
    "!ls"
   ]
  },
  {
   "cell_type": "code",
   "execution_count": null,
   "metadata": {},
   "outputs": [],
   "source": []
  }
 ],
 "metadata": {
  "kernelspec": {
   "display_name": "Python 2",
   "language": "python",
   "name": "python2"
  },
  "language_info": {
   "codemirror_mode": {
    "name": "ipython",
    "version": 2
   },
   "file_extension": ".py",
   "mimetype": "text/x-python",
   "name": "python",
   "nbconvert_exporter": "python",
   "pygments_lexer": "ipython2",
   "version": "2.7.16"
  }
 },
 "nbformat": 4,
 "nbformat_minor": 2
}
