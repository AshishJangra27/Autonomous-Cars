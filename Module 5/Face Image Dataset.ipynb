{
 "cells": [
  {
   "cell_type": "code",
   "execution_count": 2,
   "metadata": {},
   "outputs": [],
   "source": [
    "import dlib\n",
    "import cv2 as cv\n",
    "\n",
    "import numpy as np\n",
    "\n",
    "face_detector = dlib.get_frontal_face_detector()"
   ]
  },
  {
   "cell_type": "code",
   "execution_count": 54,
   "metadata": {},
   "outputs": [],
   "source": [
    "camera = cv.VideoCapture(0)\n",
    "\n",
    "ref = 0\n",
    "\n",
    "while True:\n",
    "\n",
    "    _, img = camera.read()\n",
    "    \n",
    "    img = cv.flip(img, 1)\n",
    "    gray = cv.cvtColor(img, cv.COLOR_BGR2GRAY)\n",
    "    \n",
    "    faces = face_detector(gray)\n",
    "    \n",
    "    for face in faces:\n",
    "        \n",
    "        x1 = int(face.left())\n",
    "        y1 = int(face.top())\n",
    "        x2 = int(face.right())\n",
    "        y2 = int(face.bottom())\n",
    "        \n",
    "        crop = img[y1:y2,x1:x2,:]\n",
    "        ref += 1\n",
    "        name = \"Dataset/Ashish/\"+ str(ref) +\".jpg\"\n",
    "        \n",
    "        cv.imwrite(name , crop)\n",
    "        \n",
    "    \n",
    "    cv.imshow('Crop Face', crop)\n",
    "    \n",
    "    key = cv.waitKey(30)\n",
    "    \n",
    "    if (key == ord('q')):\n",
    "        break\n",
    "        \n",
    "        \n",
    "camera.release()\n",
    "    "
   ]
  }
 ],
 "metadata": {
  "kernelspec": {
   "display_name": "Python 2",
   "language": "python",
   "name": "python2"
  },
  "language_info": {
   "codemirror_mode": {
    "name": "ipython",
    "version": 2
   },
   "file_extension": ".py",
   "mimetype": "text/x-python",
   "name": "python",
   "nbconvert_exporter": "python",
   "pygments_lexer": "ipython2",
   "version": "2.7.16"
  }
 },
 "nbformat": 4,
 "nbformat_minor": 2
}
